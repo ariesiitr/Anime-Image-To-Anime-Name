{
 "cells": [
  {
   "cell_type": "code",
   "execution_count": 1,
   "id": "b4aeb283-ac24-4fff-b0de-29c07f826dc5",
   "metadata": {},
   "outputs": [],
   "source": [
    "import tensorflow as tf\n",
    "import os\n",
    "import scipy as sc"
   ]
  },
  {
   "cell_type": "code",
   "execution_count": 2,
   "id": "5eb275d7-132b-4e4c-b7d4-c44d21311adf",
   "metadata": {},
   "outputs": [],
   "source": [
    "# Avoid OOM errors by setting GPU Memory Consumption Growth\n",
    "gpus = tf.config.experimental.list_physical_devices('GPU')\n",
    "for gpu in gpus: \n",
    "    tf.config.experimental.set_memory_growth(gpu, True)"
   ]
  },
  {
   "cell_type": "code",
   "execution_count": 3,
   "id": "74037ca6-9271-4289-bf94-8923b3297566",
   "metadata": {},
   "outputs": [
    {
     "data": {
      "text/plain": [
       "[PhysicalDevice(name='/physical_device:GPU:0', device_type='GPU')]"
      ]
     },
     "execution_count": 3,
     "metadata": {},
     "output_type": "execute_result"
    }
   ],
   "source": [
    "tf.config.list_physical_devices('GPU')\n"
   ]
  },
  {
   "cell_type": "code",
   "execution_count": 4,
   "id": "dcc2266d-6dcd-4ba9-98d3-0432bb55531a",
   "metadata": {},
   "outputs": [
    {
     "name": "stdout",
     "output_type": "stream",
     "text": [
      "Requirement already satisfied: opencv-python in d:\\anaconda3\\envs\\animeclass\\lib\\site-packages (4.7.0.72)\n",
      "Requirement already satisfied: matplotlib in d:\\anaconda3\\envs\\animeclass\\lib\\site-packages (3.7.1)\n",
      "Requirement already satisfied: numpy>=1.17.3 in d:\\anaconda3\\envs\\animeclass\\lib\\site-packages (from opencv-python) (1.24.3)\n",
      "Requirement already satisfied: cycler>=0.10 in d:\\anaconda3\\envs\\animeclass\\lib\\site-packages (from matplotlib) (0.11.0)\n",
      "Requirement already satisfied: fonttools>=4.22.0 in d:\\anaconda3\\envs\\animeclass\\lib\\site-packages (from matplotlib) (4.39.3)\n",
      "Requirement already satisfied: python-dateutil>=2.7 in d:\\anaconda3\\envs\\animeclass\\lib\\site-packages (from matplotlib) (2.8.2)\n",
      "Requirement already satisfied: kiwisolver>=1.0.1 in d:\\anaconda3\\envs\\animeclass\\lib\\site-packages (from matplotlib) (1.4.4)\n",
      "Requirement already satisfied: pillow>=6.2.0 in d:\\anaconda3\\envs\\animeclass\\lib\\site-packages (from matplotlib) (9.5.0)\n",
      "Requirement already satisfied: pyparsing>=2.3.1 in d:\\anaconda3\\envs\\animeclass\\lib\\site-packages (from matplotlib) (3.0.9)\n",
      "Requirement already satisfied: contourpy>=1.0.1 in d:\\anaconda3\\envs\\animeclass\\lib\\site-packages (from matplotlib) (1.0.7)\n",
      "Requirement already satisfied: packaging>=20.0 in d:\\anaconda3\\envs\\animeclass\\lib\\site-packages (from matplotlib) (23.0)\n",
      "Requirement already satisfied: six>=1.5 in d:\\anaconda3\\envs\\animeclass\\lib\\site-packages (from python-dateutil>=2.7->matplotlib) (1.16.0)\n"
     ]
    }
   ],
   "source": [
    "!pip install opencv-python matplotlib"
   ]
  },
  {
   "cell_type": "code",
   "execution_count": 5,
   "id": "bdd52b20-f85d-437c-b1b7-01bd0695690b",
   "metadata": {},
   "outputs": [],
   "source": [
    "import cv2\n",
    "import imghdr"
   ]
  },
  {
   "cell_type": "code",
   "execution_count": 6,
   "id": "fcd64ea2-4bdd-4caf-8c5d-f9eac596ef09",
   "metadata": {},
   "outputs": [],
   "source": [
    "import numpy as np\n",
    "from matplotlib import pyplot as plt"
   ]
  },
  {
   "cell_type": "code",
   "execution_count": 7,
   "id": "a3ca59f0-9304-481d-893c-96dee2befc6d",
   "metadata": {},
   "outputs": [],
   "source": [
    "data_dir = 'dataset_final'"
   ]
  },
  {
   "cell_type": "code",
   "execution_count": 8,
   "id": "2ca0f845-eb0c-43aa-8e26-79a8cfacb084",
   "metadata": {},
   "outputs": [
    {
     "name": "stdout",
     "output_type": "stream",
     "text": [
      "Found 10661 files belonging to 3 classes.\n"
     ]
    }
   ],
   "source": [
    "data = tf.keras.utils.image_dataset_from_directory('dataset_final',label_mode='categorical')"
   ]
  },
  {
   "cell_type": "code",
   "execution_count": 9,
   "id": "5e7cbf3e-b2c1-404b-8b7f-04636ee7c31d",
   "metadata": {},
   "outputs": [
    {
     "name": "stdout",
     "output_type": "stream",
     "text": [
      "['test_Prepro', 'train_Prepro', 'val_Prepro']\n"
     ]
    }
   ],
   "source": [
    "print(os.listdir(data_dir))"
   ]
  },
  {
   "cell_type": "code",
   "execution_count": 10,
   "id": "517c8853-dcc0-4753-ad7a-43181ca847ab",
   "metadata": {},
   "outputs": [
    {
     "name": "stdout",
     "output_type": "stream",
     "text": [
      "Found 7461 files belonging to 6 classes.\n"
     ]
    }
   ],
   "source": [
    "data_train = tf.keras.utils.image_dataset_from_directory('dataset_final/train_Prepro',label_mode='categorical')"
   ]
  },
  {
   "cell_type": "code",
   "execution_count": 11,
   "id": "c43f0a6b-884a-41f8-ad06-3642ffac09ef",
   "metadata": {},
   "outputs": [
    {
     "name": "stdout",
     "output_type": "stream",
     "text": [
      "Found 1605 files belonging to 6 classes.\n"
     ]
    }
   ],
   "source": [
    "data_test = tf.keras.utils.image_dataset_from_directory('dataset_final/test_Prepro',label_mode='categorical')"
   ]
  },
  {
   "cell_type": "code",
   "execution_count": 12,
   "id": "0997d0da-c812-4f2d-8a5b-77a6f82136f0",
   "metadata": {},
   "outputs": [
    {
     "name": "stdout",
     "output_type": "stream",
     "text": [
      "Found 1595 files belonging to 6 classes.\n"
     ]
    }
   ],
   "source": [
    "data_val = tf.keras.utils.image_dataset_from_directory('dataset_final/val_Prepro',label_mode='categorical')"
   ]
  },
  {
   "cell_type": "code",
   "execution_count": 13,
   "id": "dfbf9436-939d-4c96-a44d-46b6e625b5b7",
   "metadata": {},
   "outputs": [],
   "source": [
    "train_dir='dataset_final/train_Prepro'\n",
    "val_dir='dataset_final/val_Prepro'\n",
    "test_dir='dataset_final/test_Prepro'"
   ]
  },
  {
   "cell_type": "code",
   "execution_count": 14,
   "id": "b71051d8-d4df-4175-b87b-1a8dadd2fcff",
   "metadata": {},
   "outputs": [
    {
     "name": "stdout",
     "output_type": "stream",
     "text": [
      "Found 7461 images belonging to 6 classes.\n",
      "Found 1595 images belonging to 6 classes.\n",
      "Found 1605 images belonging to 6 classes.\n"
     ]
    }
   ],
   "source": [
    "batch_size=64\n",
    "from keras.preprocessing.image import ImageDataGenerator\n",
    "\n",
    "# Define the data augmentation and preprocessing pipeline\n",
    "train_datagen = ImageDataGenerator(\n",
    "    rescale=1./255,\n",
    "rotation_range=20,  # randomly rotate the images by up to 20 degrees\n",
    "    width_shift_range=0.2,  # randomly shift the images horizontally by up to 20% of the width\n",
    "    height_shift_range=0.2,  # randomly shift the images vertically by up to 20% of the height\n",
    "    shear_range=0.2,  # randomly apply shearing transformations\n",
    "    zoom_range=0.2,  # randomly zoom in or out on the images\n",
    "    horizontal_flip=True,  # randomly flip the images horizontally\n",
    "    fill_mode='nearest'  # fill in any missing pixels with the nearest available pixel\n",
    ")\n",
    "\n",
    "# Create the data generators\n",
    "train_generator = train_datagen.flow_from_directory(\n",
    "    train_dir,\n",
    "    batch_size=batch_size,\n",
    "    class_mode='categorical',\n",
    "    color_mode=\"grayscale\",\n",
    "    shuffle=True  # shuffle the data at the beginning of each epoch\n",
    ")\n",
    "\n",
    "val_datagen = ImageDataGenerator(rescale=1./255)\n",
    "val_generator = val_datagen.flow_from_directory(\n",
    "    val_dir,\n",
    "    batch_size=batch_size,\n",
    "    class_mode='categorical',\n",
    "    color_mode=\"grayscale\",\n",
    "    shuffle=False  # don't shuffle the validation data\n",
    ")\n",
    "\n",
    "test_datagen = ImageDataGenerator(rescale=1./255)\n",
    "test_generator = test_datagen.flow_from_directory(\n",
    "    test_dir,\n",
    "    batch_size=batch_size,\n",
    "    class_mode='categorical',\n",
    "    color_mode=\"grayscale\",\n",
    "    shuffle=False  # don't shuffle the test data\n",
    ")\n"
   ]
  },
  {
   "cell_type": "code",
   "execution_count": 15,
   "id": "9ccfc35e-cd6c-4c97-8871-4b920d2a2e99",
   "metadata": {},
   "outputs": [],
   "source": [
    "from tensorflow.keras.models import Sequential\n",
    "from tensorflow.keras.layers import Conv2D, MaxPooling2D, Dense, Flatten, Dropout"
   ]
  },
  {
   "cell_type": "raw",
   "id": "1fae0d1a-4a97-498d-b4a7-dbbdc9cf53b4",
   "metadata": {},
   "source": [
    "MODEL"
   ]
  },
  {
   "cell_type": "code",
   "execution_count": 16,
   "id": "d20105c7-a8ff-4079-8279-af5e5ce88a3d",
   "metadata": {},
   "outputs": [],
   "source": [
    "logdir='logs'"
   ]
  },
  {
   "cell_type": "code",
   "execution_count": 17,
   "id": "fe8db51b-439a-4826-8c97-63bab1da8550",
   "metadata": {},
   "outputs": [],
   "source": [
    "tensorboard_callback = tf.keras.callbacks.TensorBoard(log_dir=logdir)"
   ]
  },
  {
   "cell_type": "raw",
   "id": "7ad517fb-d273-4e48-a7e9-87763e717612",
   "metadata": {},
   "source": [
    "MODEL WITH DROPOUT"
   ]
  },
  {
   "cell_type": "code",
   "execution_count": 18,
   "id": "bfa05338-0e72-434f-847e-0c2cba7fc26b",
   "metadata": {},
   "outputs": [],
   "source": [
    "\n",
    "model = Sequential()\n",
    "model.add(Conv2D(16, (3,3), 1, activation='relu', input_shape=(256,256,1)))\n",
    "model.add(MaxPooling2D())\n",
    "model.add(Dropout(0.15))  # add dropout after the first conv layer\n",
    "model.add(Conv2D(64, (3,3), 1, activation='relu'))\n",
    "model.add(MaxPooling2D())\n",
    "model.add(Conv2D(128, (3,3), 1, activation='relu'))\n",
    "model.add(MaxPooling2D())\n",
    "model.add(Dropout(0.15))  # add droout after the second conv layer\n",
    "model.add(Flatten())\n",
    "model.add(Dense(512, activation='relu'))\n",
    "model.add(Dropout(0.25))  # add dropout after the first dense layer\n",
    "model.add(Dense(6, activation='softmax'))"
   ]
  },
  {
   "cell_type": "code",
   "execution_count": 19,
   "id": "4f2084c8-f7ee-4cfc-a7f0-4ac6aaba8be5",
   "metadata": {},
   "outputs": [],
   "source": [
    "model.compile('adam' , loss=tf.losses.CategoricalCrossentropy(), metrics=['accuracy'])"
   ]
  },
  {
   "cell_type": "code",
   "execution_count": 20,
   "id": "0f1f158b-0ed3-4c0e-8f29-22c33a597cf9",
   "metadata": {},
   "outputs": [
    {
     "name": "stdout",
     "output_type": "stream",
     "text": [
      "Model: \"sequential\"\n",
      "_________________________________________________________________\n",
      " Layer (type)                Output Shape              Param #   \n",
      "=================================================================\n",
      " conv2d (Conv2D)             (None, 254, 254, 16)      160       \n",
      "                                                                 \n",
      " max_pooling2d (MaxPooling2D  (None, 127, 127, 16)     0         \n",
      " )                                                               \n",
      "                                                                 \n",
      " dropout (Dropout)           (None, 127, 127, 16)      0         \n",
      "                                                                 \n",
      " conv2d_1 (Conv2D)           (None, 125, 125, 64)      9280      \n",
      "                                                                 \n",
      " max_pooling2d_1 (MaxPooling  (None, 62, 62, 64)       0         \n",
      " 2D)                                                             \n",
      "                                                                 \n",
      " conv2d_2 (Conv2D)           (None, 60, 60, 128)       73856     \n",
      "                                                                 \n",
      " max_pooling2d_2 (MaxPooling  (None, 30, 30, 128)      0         \n",
      " 2D)                                                             \n",
      "                                                                 \n",
      " dropout_1 (Dropout)         (None, 30, 30, 128)       0         \n",
      "                                                                 \n",
      " flatten (Flatten)           (None, 115200)            0         \n",
      "                                                                 \n",
      " dense (Dense)               (None, 512)               58982912  \n",
      "                                                                 \n",
      " dropout_2 (Dropout)         (None, 512)               0         \n",
      "                                                                 \n",
      " dense_1 (Dense)             (None, 6)                 3078      \n",
      "                                                                 \n",
      "=================================================================\n",
      "Total params: 59,069,286\n",
      "Trainable params: 59,069,286\n",
      "Non-trainable params: 0\n",
      "_________________________________________________________________\n"
     ]
    }
   ],
   "source": [
    "model.summary()"
   ]
  },
  {
   "cell_type": "code",
   "execution_count": 22,
   "id": "e5216921-75ca-4295-8886-f29640d7e48a",
   "metadata": {},
   "outputs": [
    {
     "name": "stdout",
     "output_type": "stream",
     "text": [
      "Epoch 1/130\n",
      "117/117 [==============================] - 27s 227ms/step - loss: 0.5946 - accuracy: 0.7711 - val_loss: 2.8714 - val_accuracy: 0.5950\n",
      "Epoch 2/130\n",
      "117/117 [==============================] - 27s 229ms/step - loss: 0.5943 - accuracy: 0.7704 - val_loss: 1.9791 - val_accuracy: 0.6025\n",
      "Epoch 3/130\n",
      "117/117 [==============================] - 27s 227ms/step - loss: 0.5958 - accuracy: 0.7671 - val_loss: 1.3061 - val_accuracy: 0.6771\n",
      "Epoch 4/130\n",
      "117/117 [==============================] - 25s 217ms/step - loss: 0.5826 - accuracy: 0.7687 - val_loss: 2.0325 - val_accuracy: 0.6176\n",
      "Epoch 5/130\n",
      "117/117 [==============================] - 26s 220ms/step - loss: 0.5593 - accuracy: 0.7874 - val_loss: 2.0243 - val_accuracy: 0.6263\n",
      "Epoch 6/130\n",
      "117/117 [==============================] - 26s 218ms/step - loss: 0.5732 - accuracy: 0.7754 - val_loss: 2.2659 - val_accuracy: 0.6069\n",
      "Epoch 7/130\n",
      "117/117 [==============================] - 26s 218ms/step - loss: 0.5459 - accuracy: 0.7869 - val_loss: 1.9319 - val_accuracy: 0.6313\n",
      "Epoch 8/130\n",
      "117/117 [==============================] - 26s 220ms/step - loss: 0.5667 - accuracy: 0.7826 - val_loss: 1.5380 - val_accuracy: 0.6646\n",
      "Epoch 9/130\n",
      "117/117 [==============================] - 27s 230ms/step - loss: 0.5612 - accuracy: 0.7807 - val_loss: 3.7217 - val_accuracy: 0.5837\n",
      "Epoch 10/130\n",
      "117/117 [==============================] - 26s 220ms/step - loss: 0.5586 - accuracy: 0.7821 - val_loss: 0.8321 - val_accuracy: 0.7279\n",
      "Epoch 11/130\n",
      "117/117 [==============================] - 26s 223ms/step - loss: 0.5445 - accuracy: 0.7917 - val_loss: 2.1523 - val_accuracy: 0.6282\n",
      "Epoch 12/130\n",
      "117/117 [==============================] - 26s 220ms/step - loss: 0.5447 - accuracy: 0.7869 - val_loss: 1.3051 - val_accuracy: 0.6865\n",
      "Epoch 13/130\n",
      "117/117 [==============================] - 26s 226ms/step - loss: 0.5280 - accuracy: 0.7983 - val_loss: 1.8550 - val_accuracy: 0.6376\n",
      "Epoch 14/130\n",
      "117/117 [==============================] - 26s 222ms/step - loss: 0.5219 - accuracy: 0.7987 - val_loss: 0.8434 - val_accuracy: 0.7524\n",
      "Epoch 15/130\n",
      "117/117 [==============================] - 26s 222ms/step - loss: 0.5299 - accuracy: 0.7996 - val_loss: 2.7317 - val_accuracy: 0.6082\n",
      "Epoch 16/130\n",
      "117/117 [==============================] - 26s 222ms/step - loss: 0.5233 - accuracy: 0.7959 - val_loss: 0.9284 - val_accuracy: 0.7423\n",
      "Epoch 17/130\n",
      "117/117 [==============================] - 26s 223ms/step - loss: 0.5245 - accuracy: 0.7949 - val_loss: 1.3994 - val_accuracy: 0.6796\n",
      "Epoch 18/130\n",
      "117/117 [==============================] - 27s 232ms/step - loss: 0.5252 - accuracy: 0.7923 - val_loss: 1.7599 - val_accuracy: 0.6614\n",
      "Epoch 19/130\n",
      "117/117 [==============================] - 26s 223ms/step - loss: 0.5287 - accuracy: 0.7912 - val_loss: 1.2048 - val_accuracy: 0.7254\n",
      "Epoch 20/130\n",
      "117/117 [==============================] - 26s 222ms/step - loss: 0.5265 - accuracy: 0.7987 - val_loss: 1.2127 - val_accuracy: 0.7110\n",
      "Epoch 21/130\n",
      "117/117 [==============================] - 26s 225ms/step - loss: 0.5079 - accuracy: 0.8011 - val_loss: 2.6442 - val_accuracy: 0.6013\n",
      "Epoch 22/130\n",
      "117/117 [==============================] - 26s 223ms/step - loss: 0.5014 - accuracy: 0.8077 - val_loss: 1.2561 - val_accuracy: 0.6934\n",
      "Epoch 23/130\n",
      "117/117 [==============================] - 26s 223ms/step - loss: 0.5117 - accuracy: 0.8047 - val_loss: 1.1548 - val_accuracy: 0.7028\n",
      "Epoch 24/130\n",
      "117/117 [==============================] - 27s 227ms/step - loss: 0.4920 - accuracy: 0.8112 - val_loss: 1.0144 - val_accuracy: 0.7411\n",
      "Epoch 25/130\n",
      "117/117 [==============================] - 26s 225ms/step - loss: 0.4885 - accuracy: 0.8091 - val_loss: 2.2348 - val_accuracy: 0.6464\n",
      "Epoch 26/130\n",
      "117/117 [==============================] - 26s 224ms/step - loss: 0.4933 - accuracy: 0.8075 - val_loss: 1.3361 - val_accuracy: 0.6915\n",
      "Epoch 27/130\n",
      "117/117 [==============================] - 26s 224ms/step - loss: 0.4916 - accuracy: 0.8053 - val_loss: 1.9521 - val_accuracy: 0.6966\n",
      "Epoch 28/130\n",
      "117/117 [==============================] - 26s 225ms/step - loss: 0.5098 - accuracy: 0.8034 - val_loss: 0.8429 - val_accuracy: 0.7618\n",
      "Epoch 29/130\n",
      "117/117 [==============================] - 27s 226ms/step - loss: 0.4855 - accuracy: 0.8103 - val_loss: 2.5842 - val_accuracy: 0.6395\n",
      "Epoch 30/130\n",
      "117/117 [==============================] - 27s 226ms/step - loss: 0.4702 - accuracy: 0.8126 - val_loss: 0.8096 - val_accuracy: 0.7755\n",
      "Epoch 31/130\n",
      "117/117 [==============================] - 26s 224ms/step - loss: 0.4800 - accuracy: 0.8142 - val_loss: 0.9464 - val_accuracy: 0.7467\n",
      "Epoch 32/130\n",
      "117/117 [==============================] - 26s 224ms/step - loss: 0.4682 - accuracy: 0.8128 - val_loss: 0.7279 - val_accuracy: 0.7868\n",
      "Epoch 33/130\n",
      "117/117 [==============================] - 26s 225ms/step - loss: 0.4615 - accuracy: 0.8188 - val_loss: 1.2994 - val_accuracy: 0.7085\n",
      "Epoch 34/130\n",
      "117/117 [==============================] - 27s 226ms/step - loss: 0.4506 - accuracy: 0.8212 - val_loss: 2.2863 - val_accuracy: 0.6621\n",
      "Epoch 35/130\n",
      "117/117 [==============================] - 26s 224ms/step - loss: 0.4627 - accuracy: 0.8157 - val_loss: 1.2287 - val_accuracy: 0.7197\n",
      "Epoch 36/130\n",
      "117/117 [==============================] - 27s 227ms/step - loss: 0.4367 - accuracy: 0.8255 - val_loss: 2.1568 - val_accuracy: 0.6483\n",
      "Epoch 37/130\n",
      "117/117 [==============================] - 26s 225ms/step - loss: 0.4476 - accuracy: 0.8260 - val_loss: 2.1910 - val_accuracy: 0.6683\n",
      "Epoch 38/130\n",
      "117/117 [==============================] - 26s 224ms/step - loss: 0.4563 - accuracy: 0.8243 - val_loss: 0.8848 - val_accuracy: 0.7730\n",
      "Epoch 39/130\n",
      "117/117 [==============================] - 26s 224ms/step - loss: 0.4489 - accuracy: 0.8242 - val_loss: 1.3833 - val_accuracy: 0.7229\n",
      "Epoch 40/130\n",
      "117/117 [==============================] - 26s 225ms/step - loss: 0.4674 - accuracy: 0.8205 - val_loss: 1.2093 - val_accuracy: 0.7461\n",
      "Epoch 41/130\n",
      "117/117 [==============================] - 26s 225ms/step - loss: 0.4519 - accuracy: 0.8246 - val_loss: 1.1748 - val_accuracy: 0.7248\n",
      "Epoch 42/130\n",
      "117/117 [==============================] - 27s 228ms/step - loss: 0.4578 - accuracy: 0.8250 - val_loss: 1.2079 - val_accuracy: 0.7248\n",
      "Epoch 43/130\n",
      "117/117 [==============================] - 27s 226ms/step - loss: 0.4322 - accuracy: 0.8333 - val_loss: 1.5170 - val_accuracy: 0.7103\n",
      "Epoch 44/130\n",
      "117/117 [==============================] - 26s 225ms/step - loss: 0.4306 - accuracy: 0.8347 - val_loss: 1.1616 - val_accuracy: 0.7429\n",
      "Epoch 45/130\n",
      "117/117 [==============================] - 26s 225ms/step - loss: 0.4268 - accuracy: 0.8353 - val_loss: 0.7292 - val_accuracy: 0.7925\n",
      "Epoch 46/130\n",
      "117/117 [==============================] - 27s 227ms/step - loss: 0.4244 - accuracy: 0.8382 - val_loss: 1.2450 - val_accuracy: 0.7260\n",
      "Epoch 47/130\n",
      "117/117 [==============================] - 27s 226ms/step - loss: 0.4463 - accuracy: 0.8299 - val_loss: 0.9328 - val_accuracy: 0.7411\n",
      "Epoch 48/130\n",
      "117/117 [==============================] - 27s 227ms/step - loss: 0.4173 - accuracy: 0.8382 - val_loss: 0.7629 - val_accuracy: 0.7868\n",
      "Epoch 49/130\n",
      "117/117 [==============================] - 27s 226ms/step - loss: 0.4216 - accuracy: 0.8373 - val_loss: 0.9831 - val_accuracy: 0.7530\n",
      "Epoch 50/130\n",
      "117/117 [==============================] - 27s 227ms/step - loss: 0.4296 - accuracy: 0.8337 - val_loss: 0.8409 - val_accuracy: 0.7875\n",
      "Epoch 51/130\n",
      "117/117 [==============================] - 27s 229ms/step - loss: 0.4190 - accuracy: 0.8372 - val_loss: 0.8525 - val_accuracy: 0.7774\n",
      "Epoch 52/130\n",
      "117/117 [==============================] - 27s 227ms/step - loss: 0.4136 - accuracy: 0.8398 - val_loss: 2.8091 - val_accuracy: 0.6690\n",
      "Epoch 53/130\n",
      "117/117 [==============================] - 27s 227ms/step - loss: 0.3980 - accuracy: 0.8472 - val_loss: 0.7045 - val_accuracy: 0.8006\n",
      "Epoch 54/130\n",
      "117/117 [==============================] - 27s 229ms/step - loss: 0.4073 - accuracy: 0.8425 - val_loss: 1.8709 - val_accuracy: 0.7191\n",
      "Epoch 55/130\n",
      "117/117 [==============================] - 27s 231ms/step - loss: 0.4168 - accuracy: 0.8368 - val_loss: 0.7156 - val_accuracy: 0.7918\n",
      "Epoch 56/130\n",
      "117/117 [==============================] - 27s 229ms/step - loss: 0.3838 - accuracy: 0.8506 - val_loss: 2.9688 - val_accuracy: 0.6326\n",
      "Epoch 57/130\n",
      "117/117 [==============================] - 27s 229ms/step - loss: 0.4057 - accuracy: 0.8443 - val_loss: 0.9947 - val_accuracy: 0.7668\n",
      "Epoch 58/130\n",
      "117/117 [==============================] - 27s 229ms/step - loss: 0.4073 - accuracy: 0.8449 - val_loss: 1.7695 - val_accuracy: 0.7160\n",
      "Epoch 59/130\n",
      "117/117 [==============================] - 27s 230ms/step - loss: 0.4043 - accuracy: 0.8449 - val_loss: 0.9503 - val_accuracy: 0.7674\n",
      "Epoch 60/130\n",
      "117/117 [==============================] - 27s 230ms/step - loss: 0.4013 - accuracy: 0.8432 - val_loss: 0.7569 - val_accuracy: 0.7931\n",
      "Epoch 61/130\n",
      "117/117 [==============================] - 27s 231ms/step - loss: 0.4034 - accuracy: 0.8480 - val_loss: 1.3720 - val_accuracy: 0.7386\n",
      "Epoch 62/130\n",
      "117/117 [==============================] - 27s 229ms/step - loss: 0.4152 - accuracy: 0.8437 - val_loss: 2.2032 - val_accuracy: 0.7304\n",
      "Epoch 63/130\n",
      "117/117 [==============================] - 27s 229ms/step - loss: 0.3911 - accuracy: 0.8512 - val_loss: 1.9541 - val_accuracy: 0.7285\n",
      "Epoch 64/130\n",
      "117/117 [==============================] - 27s 229ms/step - loss: 0.3837 - accuracy: 0.8550 - val_loss: 1.0017 - val_accuracy: 0.7781\n",
      "Epoch 65/130\n",
      "117/117 [==============================] - 27s 230ms/step - loss: 0.3963 - accuracy: 0.8495 - val_loss: 2.2851 - val_accuracy: 0.7179\n",
      "Epoch 66/130\n",
      "117/117 [==============================] - 27s 228ms/step - loss: 0.3766 - accuracy: 0.8559 - val_loss: 6.3807 - val_accuracy: 0.6652\n",
      "Epoch 67/130\n",
      "117/117 [==============================] - 27s 228ms/step - loss: 0.4009 - accuracy: 0.8502 - val_loss: 0.8771 - val_accuracy: 0.7868\n",
      "Epoch 68/130\n",
      "117/117 [==============================] - 27s 229ms/step - loss: 0.3856 - accuracy: 0.8571 - val_loss: 1.3001 - val_accuracy: 0.7712\n",
      "Epoch 69/130\n",
      "117/117 [==============================] - 27s 234ms/step - loss: 0.3989 - accuracy: 0.8492 - val_loss: 1.4908 - val_accuracy: 0.7567\n",
      "Epoch 70/130\n",
      "117/117 [==============================] - 27s 233ms/step - loss: 0.3651 - accuracy: 0.8583 - val_loss: 1.7155 - val_accuracy: 0.7329\n",
      "Epoch 71/130\n",
      "117/117 [==============================] - 27s 233ms/step - loss: 0.3712 - accuracy: 0.8532 - val_loss: 2.4865 - val_accuracy: 0.6997\n",
      "Epoch 72/130\n",
      "117/117 [==============================] - 27s 233ms/step - loss: 0.3848 - accuracy: 0.8578 - val_loss: 0.7439 - val_accuracy: 0.7887\n",
      "Epoch 73/130\n",
      "117/117 [==============================] - 27s 234ms/step - loss: 0.3790 - accuracy: 0.8555 - val_loss: 0.8807 - val_accuracy: 0.7944\n",
      "Epoch 74/130\n",
      "117/117 [==============================] - 27s 233ms/step - loss: 0.3822 - accuracy: 0.8547 - val_loss: 0.7371 - val_accuracy: 0.8163\n",
      "Epoch 75/130\n",
      "117/117 [==============================] - 27s 228ms/step - loss: 0.3700 - accuracy: 0.8559 - val_loss: 1.0300 - val_accuracy: 0.7680\n",
      "Epoch 76/130\n",
      "117/117 [==============================] - 27s 229ms/step - loss: 0.3827 - accuracy: 0.8578 - val_loss: 4.1519 - val_accuracy: 0.6878\n",
      "Epoch 77/130\n",
      "117/117 [==============================] - 27s 230ms/step - loss: 0.3622 - accuracy: 0.8637 - val_loss: 2.9245 - val_accuracy: 0.6947\n",
      "Epoch 78/130\n",
      "117/117 [==============================] - 27s 229ms/step - loss: 0.3660 - accuracy: 0.8589 - val_loss: 0.8920 - val_accuracy: 0.8113\n",
      "Epoch 79/130\n",
      "117/117 [==============================] - 27s 229ms/step - loss: 0.3611 - accuracy: 0.8640 - val_loss: 0.8163 - val_accuracy: 0.8088\n",
      "Epoch 80/130\n",
      "117/117 [==============================] - 27s 228ms/step - loss: 0.3607 - accuracy: 0.8633 - val_loss: 1.4323 - val_accuracy: 0.7448\n",
      "Epoch 81/130\n",
      "117/117 [==============================] - 27s 229ms/step - loss: 0.3561 - accuracy: 0.8652 - val_loss: 0.8803 - val_accuracy: 0.8000\n",
      "Epoch 82/130\n",
      "117/117 [==============================] - 27s 229ms/step - loss: 0.3492 - accuracy: 0.8692 - val_loss: 1.1673 - val_accuracy: 0.7868\n",
      "Epoch 83/130\n",
      "117/117 [==============================] - 27s 233ms/step - loss: 0.3762 - accuracy: 0.8583 - val_loss: 1.3816 - val_accuracy: 0.7674\n",
      "Epoch 84/130\n",
      "117/117 [==============================] - 26s 224ms/step - loss: 0.3390 - accuracy: 0.8731 - val_loss: 2.2871 - val_accuracy: 0.7172\n",
      "Epoch 85/130\n",
      "117/117 [==============================] - 27s 226ms/step - loss: 0.3463 - accuracy: 0.8695 - val_loss: 0.7002 - val_accuracy: 0.8238\n",
      "Epoch 86/130\n",
      "117/117 [==============================] - 27s 226ms/step - loss: 0.3493 - accuracy: 0.8689 - val_loss: 0.8157 - val_accuracy: 0.8144\n",
      "Epoch 87/130\n",
      "117/117 [==============================] - 26s 223ms/step - loss: 0.3508 - accuracy: 0.8676 - val_loss: 2.1093 - val_accuracy: 0.7266\n",
      "Epoch 88/130\n",
      "117/117 [==============================] - 26s 219ms/step - loss: 0.3455 - accuracy: 0.8666 - val_loss: 1.4759 - val_accuracy: 0.7624\n",
      "Epoch 89/130\n",
      "117/117 [==============================] - 26s 220ms/step - loss: 0.3528 - accuracy: 0.8626 - val_loss: 1.6662 - val_accuracy: 0.7480\n",
      "Epoch 90/130\n",
      "117/117 [==============================] - 26s 220ms/step - loss: 0.3364 - accuracy: 0.8699 - val_loss: 1.6285 - val_accuracy: 0.7624\n",
      "Epoch 91/130\n",
      "117/117 [==============================] - 26s 222ms/step - loss: 0.3386 - accuracy: 0.8713 - val_loss: 2.1450 - val_accuracy: 0.7185\n",
      "Epoch 92/130\n",
      "117/117 [==============================] - 26s 221ms/step - loss: 0.3654 - accuracy: 0.8610 - val_loss: 1.5051 - val_accuracy: 0.7555\n",
      "Epoch 93/130\n",
      "117/117 [==============================] - 26s 222ms/step - loss: 0.3457 - accuracy: 0.8680 - val_loss: 1.1125 - val_accuracy: 0.7824\n",
      "Epoch 94/130\n",
      "117/117 [==============================] - 26s 222ms/step - loss: 0.3529 - accuracy: 0.8680 - val_loss: 1.0720 - val_accuracy: 0.7818\n",
      "Epoch 95/130\n",
      "117/117 [==============================] - 26s 222ms/step - loss: 0.3535 - accuracy: 0.8697 - val_loss: 0.9956 - val_accuracy: 0.7950\n",
      "Epoch 96/130\n",
      "117/117 [==============================] - 26s 224ms/step - loss: 0.3316 - accuracy: 0.8782 - val_loss: 1.3399 - val_accuracy: 0.7693\n",
      "Epoch 97/130\n",
      "117/117 [==============================] - 26s 224ms/step - loss: 0.3362 - accuracy: 0.8770 - val_loss: 0.8846 - val_accuracy: 0.7981\n",
      "Epoch 98/130\n",
      "117/117 [==============================] - 26s 224ms/step - loss: 0.3320 - accuracy: 0.8725 - val_loss: 1.8024 - val_accuracy: 0.7498\n",
      "Epoch 99/130\n",
      "117/117 [==============================] - 26s 225ms/step - loss: 0.3389 - accuracy: 0.8693 - val_loss: 0.8412 - val_accuracy: 0.8069\n",
      "Epoch 100/130\n",
      "117/117 [==============================] - 27s 226ms/step - loss: 0.3346 - accuracy: 0.8735 - val_loss: 1.4334 - val_accuracy: 0.7755\n",
      "Epoch 101/130\n",
      "117/117 [==============================] - 27s 226ms/step - loss: 0.3300 - accuracy: 0.8733 - val_loss: 1.9610 - val_accuracy: 0.7618\n",
      "Epoch 102/130\n",
      "117/117 [==============================] - 26s 226ms/step - loss: 0.3333 - accuracy: 0.8767 - val_loss: 1.3635 - val_accuracy: 0.7498\n",
      "Epoch 103/130\n",
      "117/117 [==============================] - 27s 226ms/step - loss: 0.3236 - accuracy: 0.8786 - val_loss: 1.5101 - val_accuracy: 0.7448\n",
      "Epoch 104/130\n",
      "117/117 [==============================] - 27s 226ms/step - loss: 0.3409 - accuracy: 0.8771 - val_loss: 1.2022 - val_accuracy: 0.7687\n",
      "Epoch 105/130\n",
      "117/117 [==============================] - 27s 230ms/step - loss: 0.3121 - accuracy: 0.8811 - val_loss: 2.4462 - val_accuracy: 0.7310\n",
      "Epoch 106/130\n",
      "117/117 [==============================] - 27s 227ms/step - loss: 0.3204 - accuracy: 0.8756 - val_loss: 1.3519 - val_accuracy: 0.7755\n",
      "Epoch 107/130\n",
      "117/117 [==============================] - 27s 228ms/step - loss: 0.3283 - accuracy: 0.8744 - val_loss: 1.4141 - val_accuracy: 0.7718\n",
      "Epoch 108/130\n",
      "117/117 [==============================] - 27s 227ms/step - loss: 0.3152 - accuracy: 0.8847 - val_loss: 1.0693 - val_accuracy: 0.8000\n",
      "Epoch 109/130\n",
      "117/117 [==============================] - 27s 229ms/step - loss: 0.3102 - accuracy: 0.8846 - val_loss: 1.1170 - val_accuracy: 0.7862\n",
      "Epoch 110/130\n",
      "117/117 [==============================] - 27s 231ms/step - loss: 0.3143 - accuracy: 0.8808 - val_loss: 1.9434 - val_accuracy: 0.7461\n",
      "Epoch 111/130\n",
      "117/117 [==============================] - 27s 232ms/step - loss: 0.3113 - accuracy: 0.8833 - val_loss: 1.0143 - val_accuracy: 0.8006\n",
      "Epoch 112/130\n",
      "117/117 [==============================] - 27s 230ms/step - loss: 0.3198 - accuracy: 0.8784 - val_loss: 1.1849 - val_accuracy: 0.7831\n",
      "Epoch 113/130\n",
      "117/117 [==============================] - 27s 231ms/step - loss: 0.3261 - accuracy: 0.8759 - val_loss: 1.1936 - val_accuracy: 0.7887\n",
      "Epoch 114/130\n",
      "117/117 [==============================] - 27s 231ms/step - loss: 0.3117 - accuracy: 0.8810 - val_loss: 1.1126 - val_accuracy: 0.7674\n",
      "Epoch 115/130\n",
      "117/117 [==============================] - 27s 230ms/step - loss: 0.3137 - accuracy: 0.8843 - val_loss: 0.7151 - val_accuracy: 0.8420\n",
      "Epoch 116/130\n",
      "117/117 [==============================] - 27s 231ms/step - loss: 0.3176 - accuracy: 0.8823 - val_loss: 1.2141 - val_accuracy: 0.7712\n",
      "Epoch 117/130\n",
      "117/117 [==============================] - 27s 232ms/step - loss: 0.2951 - accuracy: 0.8893 - val_loss: 1.1237 - val_accuracy: 0.7925\n",
      "Epoch 118/130\n",
      "117/117 [==============================] - 27s 231ms/step - loss: 0.2910 - accuracy: 0.8902 - val_loss: 1.1105 - val_accuracy: 0.8006\n",
      "Epoch 119/130\n",
      "117/117 [==============================] - 27s 230ms/step - loss: 0.3005 - accuracy: 0.8873 - val_loss: 1.4484 - val_accuracy: 0.8031\n",
      "Epoch 120/130\n",
      "117/117 [==============================] - 27s 231ms/step - loss: 0.3165 - accuracy: 0.8823 - val_loss: 1.0828 - val_accuracy: 0.7937\n",
      "Epoch 121/130\n",
      "117/117 [==============================] - 27s 232ms/step - loss: 0.3141 - accuracy: 0.8859 - val_loss: 0.9752 - val_accuracy: 0.8245\n",
      "Epoch 122/130\n",
      "117/117 [==============================] - 27s 231ms/step - loss: 0.2951 - accuracy: 0.8875 - val_loss: 0.9565 - val_accuracy: 0.8144\n",
      "Epoch 123/130\n",
      "117/117 [==============================] - 27s 232ms/step - loss: 0.3044 - accuracy: 0.8827 - val_loss: 0.8467 - val_accuracy: 0.8113\n",
      "Epoch 124/130\n",
      "117/117 [==============================] - 27s 232ms/step - loss: 0.2878 - accuracy: 0.8918 - val_loss: 1.1550 - val_accuracy: 0.7824\n",
      "Epoch 125/130\n",
      "117/117 [==============================] - 27s 231ms/step - loss: 0.3064 - accuracy: 0.8827 - val_loss: 0.8633 - val_accuracy: 0.8182\n",
      "Epoch 126/130\n",
      "117/117 [==============================] - 27s 231ms/step - loss: 0.2922 - accuracy: 0.8877 - val_loss: 1.0316 - val_accuracy: 0.8006\n",
      "Epoch 127/130\n",
      "117/117 [==============================] - 27s 231ms/step - loss: 0.2994 - accuracy: 0.8912 - val_loss: 0.9968 - val_accuracy: 0.8119\n",
      "Epoch 128/130\n",
      "117/117 [==============================] - 28s 235ms/step - loss: 0.3015 - accuracy: 0.8913 - val_loss: 0.9934 - val_accuracy: 0.8031\n",
      "Epoch 129/130\n",
      "117/117 [==============================] - 27s 226ms/step - loss: 0.2914 - accuracy: 0.8940 - val_loss: 1.9518 - val_accuracy: 0.7436\n",
      "Epoch 130/130\n",
      "117/117 [==============================] - 27s 227ms/step - loss: 0.2909 - accuracy: 0.8910 - val_loss: 1.1589 - val_accuracy: 0.8056\n"
     ]
    }
   ],
   "source": [
    "hist = model.fit(train_generator, epochs=130, validation_data=val_generator, callbacks=[tensorboard_callback])"
   ]
  },
  {
   "cell_type": "code",
   "execution_count": 23,
   "id": "2b27e940-f724-48c4-8323-eacdba0193b8",
   "metadata": {},
   "outputs": [
    {
     "data": {
      "image/png": "[encoded data removed]",
      "text/plain": [
       "<Figure size 640x480 with 1 Axes>"
      ]
     },
     "metadata": {},
     "output_type": "display_data"
    }
   ],
   "source": [
    "fig = plt.figure()\n",
    "plt.plot(hist.history['loss'], color='teal', label='loss')\n",
    "plt.plot(hist.history['val_loss'], color='orange', label='val_loss')\n",
    "fig.suptitle('Loss', fontsize=20)\n",
    "plt.legend(loc=\"upper left\")\n",
    "plt.show()"
   ]
  },
  {
   "cell_type": "code",
   "execution_count": 24,
   "id": "097be39f-8f4e-428c-afc4-d8525fad4aef",
   "metadata": {},
   "outputs": [
    {
     "data": {
      "image/png": "[encoded data removed]",
      "text/plain": [
       "<Figure size 640x480 with 1 Axes>"
      ]
     },
     "metadata": {},
     "output_type": "display_data"
    }
   ],
   "source": [
    "fig = plt.figure()\n",
    "plt.plot(hist.history['accuracy'], color='teal', label='accuracy')\n",
    "plt.plot(hist.history['val_accuracy'], color='orange', label='val_accuracy')\n",
    "fig.suptitle('Accuracy', fontsize=20)\n",
    "plt.legend(loc=\"upper left\")\n",
    "plt.show()"
   ]
  },
  {
   "cell_type": "raw",
   "id": "e1900223-3ad2-4fce-ab23-0c9d1c6a01cf",
   "metadata": {},
   "source": [
    "SAVING THE MODEL"
   ]
  },
  {
   "cell_type": "code",
   "execution_count": 25,
   "id": "2528b1b9-b325-48cf-8c6c-3929ebf0ed36",
   "metadata": {},
   "outputs": [],
   "source": [
    "from keras.models import load_model\n",
    "\n",
    "# Save the trained model with custom name \"Keras\"\n",
    "model.save(\"Keras.h5\")\n",
    "\n",
    "# Load the saved model\n",
    "loaded_model = load_model(\"Keras.h5\")\n"
   ]
  },
  {
   "cell_type": "raw",
   "id": "d6079fd3-edf7-4820-9abf-8b1c40ccba78",
   "metadata": {},
   "source": [
    "TESTING THE MODEL"
   ]
  },
  {
   "cell_type": "code",
   "execution_count": 26,
   "id": "ee48e6f1-1fae-404e-a09b-ff44b683c95b",
   "metadata": {},
   "outputs": [
    {
     "name": "stdout",
     "output_type": "stream",
     "text": [
      "26/26 [==============================] - 2s 83ms/step - loss: 1.1991 - accuracy: 0.7938\n",
      "Test loss: 1.1990758180618286\n",
      "Test accuracy: 0.7937694787979126\n"
     ]
    }
   ],
   "source": [
    "# Test the model on the testing data\n",
    "test_loss, test_accuracy = model.evaluate(test_generator)\n",
    "\n",
    "print(\"Test loss:\", test_loss)\n",
    "print(\"Test accuracy:\", test_accuracy)"
   ]
  }
 ],
 "metadata": {
  "kernelspec": {
   "display_name": "animeclass",
   "language": "python",
   "name": "animeclass"
  },
  "language_info": {
   "codemirror_mode": {
    "name": "ipython",
    "version": 3
   },
   "file_extension": ".py",
   "mimetype": "text/x-python",
   "name": "python",
   "nbconvert_exporter": "python",
   "pygments_lexer": "ipython3",
   "version": "3.10.11"
  },
  "toc-autonumbering": false,
  "toc-showcode": true,
  "toc-showmarkdowntxt": false
 },
 "nbformat": 4,
 "nbformat_minor": 5
}
